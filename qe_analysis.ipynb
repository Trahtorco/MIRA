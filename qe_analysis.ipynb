{
 "cells": [
  {
   "cell_type": "code",
   "execution_count": 1,
   "metadata": {},
   "outputs": [],
   "source": [
    "import numpy as np\n",
    "import matplotlib.pyplot as plt\n",
    "import scipy\n",
    "\n",
    "from matplotlib.colors import LogNorm\n",
    "from scipy import stats\n",
    "from scipy.constants import h, c, e\n",
    "from astropy.io import fits"
   ]
  },
  {
   "cell_type": "markdown",
   "metadata": {},
   "source": [
    "# Photon per Second Calculation"
   ]
  },
  {
   "cell_type": "code",
   "execution_count": 2,
   "metadata": {},
   "outputs": [
    {
     "data": {
      "image/png": "[encoded data removed]",
      "text/plain": [
       "<Figure size 432x288 with 1 Axes>"
      ]
     },
     "metadata": {
      "needs_background": "light"
     },
     "output_type": "display_data"
    }
   ],
   "source": [
    "beam_angle = np.array([24, 24, 24, 15, 30, 30, 30, 60, 60, 60, 60])*(np.pi/180) # beam angle in radians\n",
    "eta = np.array([90, 90, 90, 90, 90, 90, 90, 90, 90, 90, 90]) # efficacy of LEDs in lumens per watt (don't know actual efficacy of each LED)\n",
    "\n",
    "omega = np.zeros(11) # array to fill with solid angle of each LED\n",
    "for i in range(0, 11):\n",
    "    omega[i] = 2*np.pi*(1-np.cos(beam_angle[i]/2))\n",
    "\n",
    "omega_vis = np.array([omega[7], omega[8], omega[9], omega[10]]) # solid angle of visible LEDs in steradians\n",
    "I_nu_vis = np.array([400, 1600, 550, 600]) # luminous intensity in mcd\n",
    "phi = np.zeros(4) # luminous flux\n",
    "power = np.zeros(4)\n",
    "\n",
    "for i in range(0, 4):\n",
    "    phi[i] = I_nu_vis[i]*omega_vis[i]/1000 # luminous flux in lumens\n",
    "    power[i] = phi[i]/eta[i] # power in watts\n",
    "    \n",
    "wavelengths = np.array([310, 325, 340, 365, 385, 395, 400, 465, 525, 590, 628]) # wavelengths of all LEDs in nm\n",
    "powers = np.array([0.0012, 0.0015, 0.0013, 0.0042, 0.002, 0.04, 0.0178, power[0], power[1], power[2], power[3]]) # power of all LEDs in watts\n",
    "\n",
    "photon_energies = h*c/(wavelengths*10**(-9)) # energy of a single photon in Joules\n",
    "\n",
    "photon_number = powers/photon_energies # photons per second\n",
    "\n",
    "plt.plot(wavelengths*10, photon_number/photon_number[0], 'k.')\n",
    "plt.xlabel(r'Wavelength $(\\mathrm{\\AA})$')\n",
    "plt.ylabel(r'Photons s$^{-1}$ Relative to 310 nm LED')\n",
    "plt.show()"
   ]
  },
  {
   "cell_type": "markdown",
   "metadata": {},
   "source": [
    "# QE Analysis"
   ]
  },
  {
   "cell_type": "code",
   "execution_count": null,
   "metadata": {},
   "outputs": [],
   "source": [
    "# data should look like qhy310_1s.fts, qhy310_2s.fts, ..., qhy 310_10s.fts, qhy325_1s.fts, ..., qhy628_10s.fts, pixis310_1s.fts, ..., pixis628_10s.fts (total of 200 fits files if going from 1s to 10s exposure times)\n",
    "\n",
    "for i in wavelengths:\n",
    "    for j in range(0, 10):\n",
    "        locals()[\"qhy\" + str(i) + '_' + str(j+1) + 's'] = fits.open('./qe_data/qhy' + str(i) + '_' + str(j+1) + 's.fts') # open all the fits files\n",
    "        locals()[\"qhydata\" + str(i) + '_' + str(j+1) + 's'] = locals()[\"qhy\" + str(i) + '_' + str(j+1) + 's'][0].data # extract data from the fits files\n",
    "        locals()[\"qhy\" + str(i) + '_' + str(j+1) + 's'].close() # close fits files\n",
    "        locals()[\"qhymed\" + str(i) + '_' + str(j+1) + 's'] = np.median(locals()[\"qhydata\" + str(i) + '_' + str(j+1) + 's']) # get median\n",
    "    locals()[\"qhyx\" + str(i)] = np.array([1, 2, 3, 4, 5, 6, 7, 8, 9, 10]) # exposure time in seconds\n",
    "    locals()[\"qhyy\" + str(i)] = np.array([locals()[\"qhymed\" + str(i) + '_1s'], locals()[\"qhymed\" + str(i) + '_2s'], locals()[\"qhymed\" + str(i) + '_3s'], locals()[\"qhymed\" + str(i) + '_4s'], locals()[\"qhymed\" + str(i) + '_5s'], locals()[\"qhymed\" + str(i) + '_6s'], locals()[\"qhymed\" + str(i) + '_7s'], locals()[\"qhymed\" + str(i) + '_8s'], locals()[\"qhymed\" + str(i) + '_9s'], locals()[\"qhymed\" + str(i) + '_10s']]) # median ADU value for each exposure time\n",
    "    locals()[\"qhycoef\" + str(i)] = np.polyfit(locals()[\"qhyx\" + str(i)], locals()[\"qhyy\" + str(i)], 1) # fitting a line\n",
    "    locals()[\"qhypoly1d\" + str(i)] = np.poly1d(locals()[\"qhycoef\" + str(i)])\n",
    "    locals()[\"qhyslope\" + str(i)], locals()[\"qhyintercept\" + str(i)], locals()[\"qhyrvalue\" + str(i)], locals()[\"qhypvalue\" + str(i)], locals()[\"qhystderr\" + str(i)] = scipy.stats.linregress(locals()[\"qhyx\" + str(i)], locals()[\"qhyy\" + str(i)]) # getting slope of linear fit, which tells us how many ADUs per second per pixel for each wavelength"
   ]
  },
  {
   "cell_type": "code",
   "execution_count": null,
   "metadata": {},
   "outputs": [],
   "source": [
    "for i in wavelengths:\n",
    "    for j in range(0, 10):\n",
    "        locals()[\"pixis\" + str(i) + '_' + str(j+1) + 's'] = fits.open('./qe_data/pixis' + str(i) + '_' + str(j+1) + 's.fts') # pixis data\n",
    "        locals()[\"pixisdata\" + str(i) + '_' + str(j+1) + 's'] = locals()[\"pixis\" + str(i) + '_' + str(j+1) + 's'][0].data\n",
    "        locals()[\"pixis\" + str(i) + '_' + str(j+1) + 's'].close()\n",
    "        locals()[\"pixismed\" + str(i) + '_' + str(j+1) + 's'] = np.median(locals()[\"pixisdata\" + str(i) + '_' + str(j+1) + 's'])\n",
    "    locals()[\"pixisx\" + str(i)] = np.array([1, 2, 3, 4, 5, 6, 7, 8, 9, 10])\n",
    "    locals()[\"pixisy\" + str(i)] = np.array([locals()[\"pixismed\" + str(i) + '_1s'], locals()[\"pixismed\" + str(i) + '_2s'], locals()[\"pixismed\" + str(i) + '_3s'], locals()[\"pixismed\" + str(i) + '_4s'], locals()[\"pixismed\" + str(i) + '_5s'], locals()[\"pixismed\" + str(i) + '_6s'], locals()[\"pixismed\" + str(i) + '_7s'], locals()[\"pixismed\" + str(i) + '_8s'], locals()[\"pixismed\" + str(i) + '_9s'], locals()[\"pixismed\" + str(i) + '_10s']])\n",
    "    locals()[\"pixiscoef\" + str(i)] = np.polyfit(locals()[\"pixisx\" + str(i)], locals()[\"pixisy\" + str(i)], 1)\n",
    "    locals()[\"pixispoly1d\" + str(i)] = np.poly1d(locals()[\"pixiscoef\" + str(i)])\n",
    "    locals()[\"pixisslope\" + str(i)], locals()[\"pixisintercept\" + str(i)], locals()[\"pixisrvalue\" + str(i)], locals()[\"pixispvalue\" + str(i)], locals()[\"pixisstderr\" + str(i)] = scipy.stats.linregress(locals()[\"pixisx\" + str(i)], locals()[\"pixisy\" + str(i)])"
   ]
  },
  {
   "cell_type": "code",
   "execution_count": null,
   "metadata": {},
   "outputs": [],
   "source": [
    "qhypixel = 3.76**2 # pixel size is 3.76x3.76 square micrometers\n",
    "pixispixel = 20**2 # pixel size is 20x20 square micrometers\n",
    "\n",
    "qhygain =  # number of electrons per ADU for QHY\n",
    "pixisgain =  # number of electrons per ADU for Pixis\n",
    "\n",
    "for i in wavelengths:\n",
    "    locals()[\"qhyelectron\" + str(i)] = locals()[\"qhyslope\" + str(i)]*qhygain/qhypixel # number of electrons per second per square micrometer for QHY\n",
    "    locals()[\"pixiselectron\" + str(i)] = locals()[\"pixisslope\" + str(i)]*pixisgain/pixispixel # number of electrons per second per square micrometer for Pixis\n",
    "    locals()[\"ratio\" + str(i)] = locals()[\"qhyelectron\" + str(i)]/locals()[\"pixiselectron\" + str(i)] # electron ratio\n",
    "\n",
    "ratios = np.array([ratio310, ratio325, ratio340, ratio365, ratio385, ratio400, ratio465, ratio525, ratio590, ratio628]) # electron ratios in an array"
   ]
  },
  {
   "cell_type": "code",
   "execution_count": 3,
   "metadata": {},
   "outputs": [
    {
     "data": {
      "image/png": "[encoded data removed]",
      "text/plain": [
       "<Figure size 432x288 with 1 Axes>"
      ]
     },
     "metadata": {
      "needs_background": "light"
     },
     "output_type": "display_data"
    }
   ],
   "source": [
    "pixis_qe_data = np.loadtxt('pixis_qe_curve_data.txt', delimiter=',') # absolute quantum efficiency curve for Pixis\n",
    "pixis_qe_data = np.transpose(pixis_qe_data)\n",
    "\n",
    "pixis_qe = np.zeros(10) # array to fill with Pixis absolute QE values for each LED wavelength\n",
    "for i in range(0, 10):\n",
    "    pixis_qe[i] = np.interp(wavelengths[i], pixis_qe_data[0], pixis_qe_data[1])\n",
    "\n",
    "plt.plot(pixis_qe_data[0]*10, pixis_qe_data[1], 'k')\n",
    "plt.xlim(2500, 10500)\n",
    "plt.ylim(0, 100)\n",
    "plt.xlabel(r'Wavelength $(\\mathrm{\\AA})$')\n",
    "plt.ylabel(r'Pixis Absolute QE $(\\%)$')\n",
    "plt.show()"
   ]
  },
  {
   "cell_type": "code",
   "execution_count": null,
   "metadata": {},
   "outputs": [],
   "source": [
    "qhy_qe = ratios*pixis_qe # absolute QE for QHY as a percentage\n",
    "\n",
    "plt.plot(wavelengths*10, qhy_qe, '.')\n",
    "plt.xlabel(r'Wavelength $(\\mathrm{\\AA})$')\n",
    "plt.ylabel(r'QHY600 Absolute QE $(\\%)$')\n",
    "plt.show()"
   ]
  },
  {
   "cell_type": "code",
   "execution_count": null,
   "metadata": {},
   "outputs": [],
   "source": []
  }
 ],
 "metadata": {
  "kernelspec": {
   "display_name": "Python 3",
   "language": "python",
   "name": "python3"
  },
  "language_info": {
   "codemirror_mode": {
    "name": "ipython",
    "version": 3
   },
   "file_extension": ".py",
   "mimetype": "text/x-python",
   "name": "python",
   "nbconvert_exporter": "python",
   "pygments_lexer": "ipython3",
   "version": "3.7.1"
  }
 },
 "nbformat": 4,
 "nbformat_minor": 2
}
